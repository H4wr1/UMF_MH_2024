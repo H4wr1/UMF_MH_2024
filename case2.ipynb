{
 "cells": [
  {
   "cell_type": "code",
   "execution_count": 167,
   "metadata": {},
   "outputs": [],
   "source": [
    "import pandas as pd\n",
    "import numpy as np\n",
    "import matplotlib.pyplot as plt\n",
    "ratings = pd.read_csv('https://s3-us-west-2.amazonaws.com/recommender-tutorial/ratings.csv')\n",
    "movies = pd.read_csv('https://s3-us-west-2.amazonaws.com/recommender-tutorial/movies.csv')"
   ]
  },
  {
   "cell_type": "markdown",
   "metadata": {},
   "source": [
    "1.1"
   ]
  },
  {
   "cell_type": "code",
   "execution_count": 168,
   "metadata": {},
   "outputs": [
    {
     "name": "stdout",
     "output_type": "stream",
     "text": [
      "Liczba filmów dla dzieci: 664\n"
     ]
    }
   ],
   "source": [
    "# 1.1\n",
    "children_count = movies[movies['genres'].str.contains('Children')].shape[0]\n",
    "\n",
    "print(\"Liczba filmów dla dzieci:\", children_count)"
   ]
  },
  {
   "cell_type": "markdown",
   "metadata": {},
   "source": [
    "1.2"
   ]
  },
  {
   "cell_type": "code",
   "execution_count": 170,
   "metadata": {},
   "outputs": [
    {
     "name": "stderr",
     "output_type": "stream",
     "text": [
      "C:\\Users\\hawry\\AppData\\Local\\Temp\\ipykernel_10508\\4200505361.py:4: UserWarning: This pattern is interpreted as a regular expression, and has match groups. To actually get the groups, use str.extract.\n",
      "  movies_1995 = movies[movies['title'].str.contains('(1995)', case=False)]\n",
      "C:\\Users\\hawry\\AppData\\Local\\Temp\\ipykernel_10508\\4200505361.py:9: FutureWarning: \n",
      "\n",
      "Passing `palette` without assigning `hue` is deprecated and will be removed in v0.14.0. Assign the `x` variable to `hue` and set `legend=False` for the same effect.\n",
      "\n",
      "  sns.countplot(x=\"rating\", data=movies_1995_ratings, palette=\"viridis\")\n"
     ]
    },
    {
     "data": {
      "image/png": "[encoded data removed]",
      "text/plain": [
       "<Figure size 720x432 with 1 Axes>"
      ]
     },
     "metadata": {
      "needs_background": "light"
     },
     "output_type": "display_data"
    }
   ],
   "source": [
    "import seaborn as sns\n",
    "import matplotlib.pyplot as plt\n",
    "\n",
    "movies_1995 = movies[movies['title'].str.contains('(1995)', case=False)]\n",
    "movies_1995_ratings = pd.merge(movies_1995, ratings, on='movieId', how='inner')\n",
    "movies_1995_ratings_distribution = movies_1995_ratings['rating'].value_counts().sort_index()\n",
    "\n",
    "plt.figure(figsize=(10, 6))\n",
    "sns.countplot(x=\"rating\", data=movies_1995_ratings, palette=\"viridis\")\n",
    "plt.title(\"Rozkład ocen komedii\", fontsize=14)\n",
    "plt.xlabel(\"Ocena\")\n",
    "plt.ylabel(\"Liczba ocen\")\n",
    "plt.grid(True)\n",
    "plt.show()"
   ]
  },
  {
   "cell_type": "markdown",
   "metadata": {},
   "source": [
    "1.3"
   ]
  },
  {
   "cell_type": "code",
   "execution_count": 171,
   "metadata": {},
   "outputs": [
    {
     "name": "stdout",
     "output_type": "stream",
     "text": [
      "Średnia ocena wszystkich filmów akcji: 3.447984331646809\n",
      "\n",
      "3 filmy najwyżej oceniane (z filmów akcji):\n",
      "title\n",
      "Alien Contamination (1980)                                         5.0\n",
      "Assignment, The (1997)                                             5.0\n",
      "Battle Royale 2: Requiem (Batoru rowaiaru II: Chinkonka) (2003)    5.0\n",
      "Name: rating, dtype: float64\n"
     ]
    }
   ],
   "source": [
    "action_movies = movies[movies['genres'].str.contains('Action')]\n",
    "\n",
    "action_ratings = pd.merge(action_movies, ratings, on='movieId')\n",
    "\n",
    "average_rating_action = action_ratings['rating'].mean()\n",
    "\n",
    "top_three_movies = action_ratings.groupby('title')['rating'].mean().nlargest(3)\n",
    "\n",
    "print(\"Średnia ocena wszystkich filmów akcji:\", average_rating_action)\n",
    "print(\"\\n3 filmy najwyżej oceniane (z filmów akcji):\")\n",
    "print(top_three_movies)"
   ]
  },
  {
   "cell_type": "markdown",
   "metadata": {},
   "source": [
    "2"
   ]
  },
  {
   "cell_type": "code",
   "execution_count": 172,
   "metadata": {},
   "outputs": [
    {
     "name": "stdout",
     "output_type": "stream",
     "text": [
      "Computing the msd similarity matrix...\n",
      "Done computing similarity matrix.\n",
      "Computing the msd similarity matrix...\n",
      "Done computing similarity matrix.\n",
      "Computing the msd similarity matrix...\n",
      "Done computing similarity matrix.\n",
      "Computing the msd similarity matrix...\n",
      "Done computing similarity matrix.\n",
      "Computing the msd similarity matrix...\n",
      "Done computing similarity matrix.\n",
      "Computing the msd similarity matrix...\n",
      "Done computing similarity matrix.\n",
      "Computing the msd similarity matrix...\n",
      "Done computing similarity matrix.\n",
      "Computing the msd similarity matrix...\n",
      "Done computing similarity matrix.\n",
      "Computing the msd similarity matrix...\n",
      "Done computing similarity matrix.\n",
      "Computing the msd similarity matrix...\n",
      "Done computing similarity matrix.\n",
      "Computing the msd similarity matrix...\n",
      "Done computing similarity matrix.\n",
      "Computing the msd similarity matrix...\n",
      "Done computing similarity matrix.\n",
      "Computing the msd similarity matrix...\n",
      "Done computing similarity matrix.\n",
      "Computing the msd similarity matrix...\n",
      "Done computing similarity matrix.\n",
      "Computing the msd similarity matrix...\n",
      "Done computing similarity matrix.\n",
      "Computing the msd similarity matrix...\n",
      "Done computing similarity matrix.\n",
      "Computing the msd similarity matrix...\n",
      "Done computing similarity matrix.\n",
      "Computing the msd similarity matrix...\n",
      "Done computing similarity matrix.\n",
      "Computing the msd similarity matrix...\n",
      "Done computing similarity matrix.\n",
      "Computing the msd similarity matrix...\n",
      "Done computing similarity matrix.\n",
      "Computing the msd similarity matrix...\n",
      "Done computing similarity matrix.\n",
      "Computing the msd similarity matrix...\n",
      "Done computing similarity matrix.\n",
      "Computing the msd similarity matrix...\n",
      "Done computing similarity matrix.\n",
      "Computing the msd similarity matrix...\n",
      "Done computing similarity matrix.\n",
      "Computing the msd similarity matrix...\n",
      "Done computing similarity matrix.\n",
      "Computing the msd similarity matrix...\n",
      "Done computing similarity matrix.\n",
      "Computing the msd similarity matrix...\n",
      "Done computing similarity matrix.\n",
      "Computing the msd similarity matrix...\n",
      "Done computing similarity matrix.\n",
      "Computing the msd similarity matrix...\n",
      "Done computing similarity matrix.\n",
      "Computing the msd similarity matrix...\n",
      "Done computing similarity matrix.\n",
      "Computing the msd similarity matrix...\n",
      "Done computing similarity matrix.\n",
      "Computing the msd similarity matrix...\n",
      "Done computing similarity matrix.\n",
      "Computing the msd similarity matrix...\n",
      "Done computing similarity matrix.\n",
      "Computing the msd similarity matrix...\n",
      "Done computing similarity matrix.\n",
      "Computing the msd similarity matrix...\n",
      "Done computing similarity matrix.\n",
      "Computing the msd similarity matrix...\n",
      "Done computing similarity matrix.\n",
      "Computing the msd similarity matrix...\n",
      "Done computing similarity matrix.\n",
      "Computing the msd similarity matrix...\n",
      "Done computing similarity matrix.\n",
      "Computing the msd similarity matrix...\n",
      "Done computing similarity matrix.\n",
      "Computing the msd similarity matrix...\n",
      "Done computing similarity matrix.\n",
      "kNNWithMeans:\n",
      "0.9077922387682849\n",
      "{'k': 10}\n",
      "Evaluating RMSE, MAE of algorithm SVD on 5 split(s).\n",
      "\n",
      "                  Fold 1  Fold 2  Fold 3  Fold 4  Fold 5  Mean    Std     \n",
      "RMSE (testset)    0.8704  0.8765  0.8790  0.8635  0.8700  0.8719  0.0055  \n",
      "MAE (testset)     0.6708  0.6730  0.6754  0.6612  0.6689  0.6699  0.0048  \n",
      "Fit time          0.99    1.01    1.03    0.96    0.96    0.99    0.03    \n",
      "Test time         0.10    0.10    0.10    0.10    0.10    0.10    0.00    \n",
      "Computing the msd similarity matrix...\n",
      "Done computing similarity matrix.\n",
      "Computing the msd similarity matrix...\n",
      "Done computing similarity matrix.\n",
      "Computing the msd similarity matrix...\n",
      "Done computing similarity matrix.\n",
      "Computing the msd similarity matrix...\n",
      "Done computing similarity matrix.\n",
      "Computing the msd similarity matrix...\n",
      "Done computing similarity matrix.\n",
      "Evaluating RMSE, MAE of algorithm KNNWithMeans on 5 split(s).\n",
      "\n",
      "                  Fold 1  Fold 2  Fold 3  Fold 4  Fold 5  Mean    Std     \n",
      "RMSE (testset)    0.9071  0.9129  0.9097  0.8984  0.9090  0.9074  0.0049  \n",
      "MAE (testset)     0.6982  0.6997  0.6961  0.6870  0.6961  0.6954  0.0045  \n",
      "Fit time          0.16    0.19    0.18    0.18    0.18    0.18    0.01    \n",
      "Test time         0.82    0.82    1.01    0.82    0.81    0.86    0.08    \n",
      "\n",
      "Walidacja krzyżowa:\n",
      "SVD:\n",
      "Średnie RMSE: 0.8718714397816791\n",
      "Średnie MAE: 0.6698765197720975\n",
      "\n",
      "kNNWithMeans:\n",
      "Średnie RMSE: 0.9074119163786982\n",
      "Średnie MAE: 0.6954339407937911\n"
     ]
    }
   ],
   "source": [
    "from surprise import Dataset, Reader, SVD, KNNWithMeans\n",
    "from surprise.model_selection import cross_validate, GridSearchCV\n",
    "\n",
    "\n",
    "merged_data = pd.merge(ratings, movies, on='movieId')\n",
    "\n",
    "reader = Reader(rating_scale=(0.5, 5))\n",
    "data = Dataset.load_from_df(merged_data[['userId', 'movieId', 'rating']], reader)\n",
    "\n",
    "svd = SVD()\n",
    "knn = KNNWithMeans()\n",
    "\n",
    "param_grid_knn = {'k': list(range(3, 11))}\n",
    "gs_knn = GridSearchCV(KNNWithMeans, param_grid_knn, measures=['rmse', 'mae'], cv=5)\n",
    "gs_knn.fit(data)\n",
    "\n",
    "print(\"kNNWithMeans:\")\n",
    "print(gs_knn.best_score['rmse'])\n",
    "print(gs_knn.best_params['rmse'])\n",
    "\n",
    "svd_cv_results = cross_validate(svd, data, measures=['RMSE', 'MAE'], cv=5, verbose=True)\n",
    "knn_cv_results = cross_validate(KNNWithMeans(k=gs_knn.best_params['rmse']['k']), data, measures=['RMSE', 'MAE'], cv=5, verbose=True)\n",
    "\n",
    "svd_avg_rmse = svd_cv_results['test_rmse'].mean()\n",
    "svd_avg_mae = svd_cv_results['test_mae'].mean()\n",
    "knn_avg_rmse = knn_cv_results['test_rmse'].mean()\n",
    "knn_avg_mae = knn_cv_results['test_mae'].mean()\n",
    "\n",
    "print(\"\\nWalidacja krzyżowa:\")\n",
    "print(\"SVD:\")\n",
    "print(\"Średnie RMSE:\", svd_avg_rmse)\n",
    "print(\"Średnie MAE:\", svd_avg_mae)\n",
    "print(\"\\nkNNWithMeans:\")\n",
    "print(\"Średnie RMSE:\", knn_avg_rmse)\n",
    "print(\"Średnie MAE:\", knn_avg_mae)\n"
   ]
  },
  {
   "cell_type": "markdown",
   "metadata": {},
   "source": [
    "2.2 kNNWithMeans to algorytm grupowania (clustering), natomiast standardowy kNN to algorytm klasyfikacji\n",
    "\n",
    "2.3 i 2.4: SVD ma mniejszy RMSE oraz MAE od kNNWithMeans (k=10, GridSearch)"
   ]
  },
  {
   "cell_type": "markdown",
   "metadata": {},
   "source": [
    "3"
   ]
  },
  {
   "cell_type": "code",
   "execution_count": 179,
   "metadata": {},
   "outputs": [
    {
     "name": "stdout",
     "output_type": "stream",
     "text": [
      "Znalezione filmy:\n",
      "ID: 126, Tytuł: NeverEnding Story III, The (1994)\n",
      "ID: 1921, Tytuł: Pi (1998)\n",
      "ID: 97938, Tytuł: Life of Pi (2012)\n"
     ]
    }
   ],
   "source": [
    "movie_mapper = dict(zip(movies['title'], movies['movieId']))\n",
    "\n",
    "def find_movies_by_title(partial_titles, movie_mapper):\n",
    "    matching_movies = []\n",
    "    partial_titles_lower = [partial_title for partial_title in partial_titles]\n",
    "    for title, movie_id in movie_mapper.items():\n",
    "        title_lower = title\n",
    "        if any(partial_title in title_lower for partial_title in partial_titles_lower):\n",
    "            matching_movies.append((title, movie_id))\n",
    "    return matching_movies\n",
    "\n",
    "partial_titles = [\"NeverEnding Story III\", \"Pi \"]\n",
    "matching_movies = find_movies_by_title(partial_titles, movie_mapper)\n",
    "\n",
    "if matching_movies:\n",
    "    print(\"Znalezione filmy:\")\n",
    "    for title, movie_id in matching_movies:\n",
    "        print(f\"ID: {movie_id}, Tytuł: {title}\")\n",
    "else:\n",
    "    print(\"Nie znaleziono\")\n"
   ]
  },
  {
   "cell_type": "code",
   "execution_count": 186,
   "metadata": {},
   "outputs": [
    {
     "name": "stdout",
     "output_type": "stream",
     "text": [
      "Rekomendacje po obejrzeniu NeverEnding Story III, The (1994):\n",
      "Emmanuelle (1974)\n",
      "Vie en Rose, La (Môme, La) (2007)\n",
      "Universal Soldier: The Return (1999)\n",
      "Before Midnight (2013)\n",
      "3 Ninjas (1992)\n",
      "Men in Black (a.k.a. MIB) (1997)\n",
      "Brady Bunch Movie, The (1995)\n",
      "Jumpin' Jack Flash (1986)\n",
      "Planes, Trains & Automobiles (1987)\n",
      "Dances with Wolves (1990)\n"
     ]
    }
   ],
   "source": [
    "import numpy as np\n",
    "def get_similar_movies_svd(movie_id, svd_model, N=10):\n",
    "    movie_inner_id = svd_model.trainset.to_inner_iid(movie_id)\n",
    "    movie_vector = svd_model.qi[movie_inner_id]\n",
    "    similarity_scores = np.dot(svd_model.qi, movie_vector)\n",
    "\n",
    "    similar_movie_indices = similarity_scores.argsort()[::-1][1:N+1]\n",
    "    similar_movie_ids = [svd_model.trainset.to_raw_iid(inner_id) for inner_id in similar_movie_indices]\n",
    "\n",
    "    return similar_movie_ids\n",
    "\n",
    "similar_movies_svd = get_similar_movies_svd(126, svd)\n",
    "\n",
    "movie_title = movies[movies['movieId'] == 126]['title'].values[0]\n",
    "\n",
    "print(f\"Rekomendacje po obejrzeniu {movie_title}:\")\n",
    "for movie_id in similar_movies_svd:\n",
    "    movie_title = movies[movies['movieId'] == movie_id]['title'].values[0]\n",
    "    print(movie_title)"
   ]
  },
  {
   "cell_type": "code",
   "execution_count": 185,
   "metadata": {},
   "outputs": [
    {
     "name": "stdout",
     "output_type": "stream",
     "text": [
      "Rekomendacje po obejrzeniu Pi (1998):\n",
      "Truman Show, The (1998)\n",
      "Under Siege (1992)\n",
      "The Intern (2015)\n",
      "Mystery Science Theater 3000: The Movie (1996)\n",
      "Young Frankenstein (1974)\n",
      "Metroland (1997)\n",
      "True Romance (1993)\n",
      "Annie Hall (1977)\n",
      "F/X (1986)\n",
      "Harry Potter and the Deathly Hallows: Part 2 (2011)\n"
     ]
    }
   ],
   "source": [
    "similar_movies_svd = get_similar_movies_svd(1921, svd)\n",
    "\n",
    "movie_title = movies[movies['movieId'] == 1921]['title'].values[0]\n",
    "\n",
    "print(f\"Rekomendacje po obejrzeniu {movie_title}:\")\n",
    "for movie_id in similar_movies_svd:\n",
    "    movie_title = movies[movies['movieId'] == movie_id]['title'].values[0]\n",
    "    print(movie_title)"
   ]
  }
 ],
 "metadata": {
  "kernelspec": {
   "display_name": "Python 3",
   "language": "python",
   "name": "python3"
  },
  "language_info": {
   "codemirror_mode": {
    "name": "ipython",
    "version": 3
   },
   "file_extension": ".py",
   "mimetype": "text/x-python",
   "name": "python",
   "nbconvert_exporter": "python",
   "pygments_lexer": "ipython3",
   "version": "3.10.5"
  }
 },
 "nbformat": 4,
 "nbformat_minor": 2
}
