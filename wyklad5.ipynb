{
 "cells": [
  {
   "cell_type": "code",
   "execution_count": 4,
   "metadata": {},
   "outputs": [],
   "source": [
    "import pandas as pd\n",
    "import numpy as np\n",
    "import matplotlib.pyplot as plt\n",
    "ratings = pd.read_csv('https://s3-us-west-2.amazonaws.com/recommender-tutorial/ratings.csv')\n",
    "movies = pd.read_csv('https://s3-us-west-2.amazonaws.com/recommender-tutorial/movies.csv')"
   ]
  },
  {
   "cell_type": "code",
   "execution_count": 22,
   "metadata": {},
   "outputs": [
    {
     "name": "stdout",
     "output_type": "stream",
     "text": [
      "        userId  movieId  rating   timestamp\n",
      "0            1        1     4.0   964982703\n",
      "1            1        3     4.0   964981247\n",
      "2            1        6     4.0   964982224\n",
      "3            1       47     5.0   964983815\n",
      "4            1       50     5.0   964982931\n",
      "...        ...      ...     ...         ...\n",
      "100831     610   166534     4.0  1493848402\n",
      "100832     610   168248     5.0  1493850091\n",
      "100833     610   168250     5.0  1494273047\n",
      "100834     610   168252     5.0  1493846352\n",
      "100835     610   170875     3.0  1493846415\n",
      "\n",
      "[100836 rows x 4 columns]\n"
     ]
    }
   ],
   "source": [
    "print(ratings)"
   ]
  },
  {
   "cell_type": "code",
   "execution_count": 6,
   "metadata": {},
   "outputs": [
    {
     "data": {
      "image/png": "[encoded data removed]",
      "text/plain": [
       "<Figure size 432x288 with 1 Axes>"
      ]
     },
     "metadata": {
      "needs_background": "light"
     },
     "output_type": "display_data"
    }
   ],
   "source": [
    "# Number of total ratings\n",
    "total_ratings = ratings.shape[0]\n",
    "\n",
    "# Number of videos in the database\n",
    "num_videos = len(movies['movieId'].unique())\n",
    "\n",
    "# Number of users\n",
    "num_users = len(ratings['userId'].unique())\n",
    "\n",
    "# Average number of ratings per user\n",
    "avg_ratings_per_user = total_ratings / num_users\n",
    "\n",
    "# Average number of ratings per video\n",
    "avg_ratings_per_video = total_ratings / num_videos\n",
    "# Distribution of ratings\n",
    "\n",
    "# Distribution of ratings\n",
    "rating_distribution = ratings['rating'].value_counts().sort_index()\n",
    "\n",
    "# Creating bins for the distribution\n",
    "bins = [i / 2 for i in range(0, 11)]  # Bins from 0 to 5 in intervals of 0.5\n",
    "\n",
    "# Plotting distribution of ratings\n",
    "plt.hist(ratings['rating'], bins=bins, edgecolor='black', alpha=0.7)\n",
    "plt.xlabel('Rating')\n",
    "plt.ylabel('Count')\n",
    "plt.title('Distribution of Ratings')\n",
    "plt.xticks(bins)\n",
    "plt.grid(True)\n",
    "plt.show()\n"
   ]
  },
  {
   "cell_type": "code",
   "execution_count": 7,
   "metadata": {},
   "outputs": [],
   "source": [
    "movie_titles = dict(zip(movies['movieId'], movies['title']))\n"
   ]
  },
  {
   "cell_type": "code",
   "execution_count": 8,
   "metadata": {},
   "outputs": [],
   "source": [
    "movie_stats = ratings.groupby('movieId')[['rating']].agg(['count', 'mean'])\n",
    "movie_stats.columns = movie_stats.columns.droplevel()\n",
    "C = movie_stats['count'].mean()\n",
    "m = movie_stats['mean'].mean()\n",
    "\n",
    "def bayesian_avg(ratings):\n",
    "    bayesian_avg = (C * m + ratings.sum()) / (C + ratings.count())\n",
    "    return bayesian_avg\n",
    "\n",
    "bayesian_avg_ratings = ratings.groupby('movieId')['rating'].agg(bayesian_avg).reset_index()\n",
    "bayesian_avg_ratings.columns = ['movieId', 'bayesian_avg']\n",
    "\n",
    "movie_stats = movie_stats.merge(bayesian_avg_ratings, on='movieId')\n"
   ]
  },
  {
   "cell_type": "code",
   "execution_count": 9,
   "metadata": {},
   "outputs": [
    {
     "name": "stderr",
     "output_type": "stream",
     "text": [
      "c:\\Users\\hawry\\AppData\\Local\\Programs\\Python\\Python310\\lib\\site-packages\\scipy\\__init__.py:146: UserWarning: A NumPy version >=1.16.5 and <1.23.0 is required for this version of SciPy (detected version 1.26.4\n",
      "  warnings.warn(f\"A NumPy version >={np_minversion} and <{np_maxversion}\"\n"
     ]
    }
   ],
   "source": [
    "from scipy.sparse import csr_matrix\n",
    "\n",
    "def create_sparse(df):\n",
    "    M = df['userId'].nunique()\n",
    "    N = df['movieId'].nunique()\n",
    "    user_mapper = dict(zip(np.unique(df[\"userId\"]), list(range(M))))\n",
    "    movie_mapper = dict(zip(np.unique(df[\"movieId\"]), list(range(N))))\n",
    "    user_inv_mapper = dict(zip(list(range(M)), np.unique(df[\"userId\"])))\n",
    "    movie_inv_mapper = dict(zip(list(range(N)), np.unique(df[\"movieId\"])))\n",
    "    user_index = [user_mapper[i] for i in df['userId']]\n",
    "    item_index = [movie_mapper[i] for i in df['movieId']]\n",
    "    X = csr_matrix((df[\"rating\"], (user_index, item_index)), shape=(M,N))\n",
    "    return X, user_mapper, movie_mapper, user_inv_mapper, movie_inv_mapper\n"
   ]
  },
  {
   "cell_type": "code",
   "execution_count": 10,
   "metadata": {},
   "outputs": [
    {
     "name": "stdout",
     "output_type": "stream",
     "text": [
      "Matrix sparsity: 1.7%\n"
     ]
    }
   ],
   "source": [
    "X, user_mapper, movie_mapper, user_inv_mapper, movie_inv_mapper = create_sparse(ratings)\n",
    "n_total = X.shape[0] * X.shape[1]\n",
    "n_ratings = X.nnz  # Number of stored values, including explicit 0s\n",
    "sparsity = n_ratings / n_total\n",
    "sparsity_p = round(sparsity * 100, 2)\n",
    "print(f\"Matrix sparsity: {sparsity_p}%\")\n",
    "n_ratings_per_user = X.getnnz(axis=1)\n"
   ]
  },
  {
   "cell_type": "code",
   "execution_count": 11,
   "metadata": {},
   "outputs": [],
   "source": [
    "import numpy as np\n",
    "from sklearn.neighbors import NearestNeighbors\n",
    "\n",
    "def find_similar_movies(movie_id, X, movie_mapper, movie_inv_mapper, k, metric='cosine'):\n",
    "    X = X.T\n",
    "    neighbour_ids = []\n",
    "    movie_ind = movie_mapper[movie_id]\n",
    "    movie_vec = X[movie_ind]\n",
    "    if isinstance(movie_vec, (np.ndarray)):\n",
    "        movie_vec = movie_vec.reshape(1, -1)\n",
    "    kNN = NearestNeighbors(n_neighbors=k + 1, algorithm=\"brute\", metric=metric)\n",
    "    kNN.fit(X)\n",
    "    neighbour = kNN.kneighbors(movie_vec, return_distance=False)\n",
    "    for i in range(1, k + 1):  # Start from 1 to exclude the movie itself\n",
    "        n = neighbour.item(i)\n",
    "        neighbour_ids.append(movie_inv_mapper[n])\n",
    "    return neighbour_ids\n"
   ]
  },
  {
   "cell_type": "code",
   "execution_count": 12,
   "metadata": {},
   "outputs": [
    {
     "name": "stdout",
     "output_type": "stream",
     "text": [
      "Recommendations for the first movie:\n",
      "Toy Story 2 (1999)\n",
      "Jurassic Park (1993)\n",
      "Independence Day (a.k.a. ID4) (1996)\n",
      "Star Wars: Episode IV - A New Hope (1977)\n",
      "Forrest Gump (1994)\n",
      "Lion King, The (1994)\n",
      "Star Wars: Episode VI - Return of the Jedi (1983)\n",
      "Mission: Impossible (1996)\n",
      "Groundhog Day (1993)\n",
      "Back to the Future (1985)\n"
     ]
    }
   ],
   "source": [
    "# Assuming you have loaded your dataset and created the necessary mappings\n",
    "\n",
    "# Get the first movie ID\n",
    "first_movie_id = movies['movieId'].iloc[0]\n",
    "\n",
    "# Find similar movies to the first movie\n",
    "similar_movies = find_similar_movies(first_movie_id, X, movie_mapper, movie_inv_mapper, k=10)\n",
    "\n",
    "# Print the recommendations\n",
    "print(\"Recommendations for the first movie:\")\n",
    "for movie_id in similar_movies:\n",
    "    movie_title = movie_titles.get(movie_id, \"Unknown\")  # Get the title or return \"Unknown\" if not found\n",
    "    print(movie_title)\n",
    "\n"
   ]
  },
  {
   "cell_type": "code",
   "execution_count": 18,
   "metadata": {},
   "outputs": [
    {
     "name": "stdout",
     "output_type": "stream",
     "text": [
      "Liczba filmów dla dzieci: 664\n"
     ]
    }
   ],
   "source": [
    "# 1.1\n",
    "children_count = movies[movies['genres'].str.contains('Children')].shape[0]\n",
    "\n",
    "print(\"Liczba filmów dla dzieci:\", children_count)"
   ]
  },
  {
   "cell_type": "code",
   "execution_count": 26,
   "metadata": {},
   "outputs": [
    {
     "data": {
      "image/png": "[encoded data removed]",
      "text/plain": [
       "<Figure size 864x432 with 1 Axes>"
      ]
     },
     "metadata": {
      "needs_background": "light"
     },
     "output_type": "display_data"
    }
   ],
   "source": [
    "\n",
    "merged_data = pd.merge(movies, ratings, on='movieId')\n",
    "\n",
    "# Extract year from title and filter for movies released in 1995\n",
    "merged_data['year'] = merged_data['title'].str.extract(r'\\((\\d{4})\\)')\n",
    "movies_1995 = merged_data[merged_data['year'] == '1995']\n",
    "\n",
    "# Group by movie and calculate rating distribution\n",
    "rating_distribution = movies_1995.groupby('title')['rating'].value_counts(normalize=True).unstack().fillna(0)\n",
    "\n",
    "#Plot rating distribution for 1995 films\n",
    "plt.figure(figsize=(12, 6))\n",
    "plt.hist(movies_1995['rating'], bins=range(0, 6, 1), edgecolor='black', alpha=0.7)\n",
    "plt.title('Rating Distribution of 1995 Films')\n",
    "plt.xlabel('Rating')\n",
    "plt.ylabel('Frequency')\n",
    "plt.xticks(range(6))\n",
    "plt.grid(axis='y', linestyle='--', alpha=0.7)\n",
    "plt.tight_layout()\n",
    "plt.show()\n"
   ]
  },
  {
   "cell_type": "code",
   "execution_count": 25,
   "metadata": {},
   "outputs": [
    {
     "name": "stdout",
     "output_type": "stream",
     "text": [
      "Average rating of all action movies: 3.447984331646809\n",
      "\n",
      "Three highest rated action movies:\n",
      "title\n",
      "Alien Contamination (1980)                                         5.0\n",
      "Assignment, The (1997)                                             5.0\n",
      "Battle Royale 2: Requiem (Batoru rowaiaru II: Chinkonka) (2003)    5.0\n",
      "Name: rating, dtype: float64\n"
     ]
    }
   ],
   "source": [
    "# Filter action movies\n",
    "action_movies = movies[movies['genres'].str.contains('Action')]\n",
    "\n",
    "# Merge action movies with ratings\n",
    "action_ratings = pd.merge(action_movies, ratings, on='movieId')\n",
    "\n",
    "# Calculate average rating of all action movies\n",
    "average_rating_action = action_ratings['rating'].mean()\n",
    "\n",
    "# Find the three highest rated movies\n",
    "top_three_movies = action_ratings.groupby('title')['rating'].mean().nlargest(3)\n",
    "\n",
    "print(\"Average rating of all action movies:\", average_rating_action)\n",
    "print(\"\\nThree highest rated action movies:\")\n",
    "print(top_three_movies)"
   ]
  }
 ],
 "metadata": {
  "kernelspec": {
   "display_name": "Python 3",
   "language": "python",
   "name": "python3"
  },
  "language_info": {
   "codemirror_mode": {
    "name": "ipython",
    "version": 3
   },
   "file_extension": ".py",
   "mimetype": "text/x-python",
   "name": "python",
   "nbconvert_exporter": "python",
   "pygments_lexer": "ipython3",
   "version": "3.10.5"
  },
  "orig_nbformat": 4
 },
 "nbformat": 4,
 "nbformat_minor": 2
}
