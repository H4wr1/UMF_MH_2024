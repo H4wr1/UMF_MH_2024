{
 "cells": [
  {
   "cell_type": "code",
   "execution_count": 2,
   "metadata": {},
   "outputs": [],
   "source": [
    "from backtesting import Backtest\n",
    "from backtesting.test import EURUSD, GOOG\n",
    "from backtesting import Strategy\n",
    "from backtesting.lib import crossover\n",
    "from backtesting.test import SMA"
   ]
  },
  {
   "cell_type": "code",
   "execution_count": 3,
   "metadata": {},
   "outputs": [
    {
     "data": {
      "text/html": [
       "<div>\n",
       "<style scoped>\n",
       "    .dataframe tbody tr th:only-of-type {\n",
       "        vertical-align: middle;\n",
       "    }\n",
       "\n",
       "    .dataframe tbody tr th {\n",
       "        vertical-align: top;\n",
       "    }\n",
       "\n",
       "    .dataframe thead th {\n",
       "        text-align: right;\n",
       "    }\n",
       "</style>\n",
       "<table border=\"1\" class=\"dataframe\">\n",
       "  <thead>\n",
       "    <tr style=\"text-align: right;\">\n",
       "      <th></th>\n",
       "      <th>Open</th>\n",
       "      <th>High</th>\n",
       "      <th>Low</th>\n",
       "      <th>Close</th>\n",
       "      <th>Volume</th>\n",
       "    </tr>\n",
       "  </thead>\n",
       "  <tbody>\n",
       "    <tr>\n",
       "      <th>2017-04-19 09:00:00</th>\n",
       "      <td>1.07160</td>\n",
       "      <td>1.07220</td>\n",
       "      <td>1.07083</td>\n",
       "      <td>1.07219</td>\n",
       "      <td>1413</td>\n",
       "    </tr>\n",
       "    <tr>\n",
       "      <th>2017-04-19 10:00:00</th>\n",
       "      <td>1.07214</td>\n",
       "      <td>1.07296</td>\n",
       "      <td>1.07214</td>\n",
       "      <td>1.07260</td>\n",
       "      <td>1241</td>\n",
       "    </tr>\n",
       "    <tr>\n",
       "      <th>2017-04-19 11:00:00</th>\n",
       "      <td>1.07256</td>\n",
       "      <td>1.07299</td>\n",
       "      <td>1.07170</td>\n",
       "      <td>1.07192</td>\n",
       "      <td>1025</td>\n",
       "    </tr>\n",
       "    <tr>\n",
       "      <th>2017-04-19 12:00:00</th>\n",
       "      <td>1.07195</td>\n",
       "      <td>1.07280</td>\n",
       "      <td>1.07195</td>\n",
       "      <td>1.07202</td>\n",
       "      <td>1460</td>\n",
       "    </tr>\n",
       "    <tr>\n",
       "      <th>2017-04-19 13:00:00</th>\n",
       "      <td>1.07200</td>\n",
       "      <td>1.07230</td>\n",
       "      <td>1.07045</td>\n",
       "      <td>1.07050</td>\n",
       "      <td>1554</td>\n",
       "    </tr>\n",
       "  </tbody>\n",
       "</table>\n",
       "</div>"
      ],
      "text/plain": [
       "                        Open     High      Low    Close  Volume\n",
       "2017-04-19 09:00:00  1.07160  1.07220  1.07083  1.07219    1413\n",
       "2017-04-19 10:00:00  1.07214  1.07296  1.07214  1.07260    1241\n",
       "2017-04-19 11:00:00  1.07256  1.07299  1.07170  1.07192    1025\n",
       "2017-04-19 12:00:00  1.07195  1.07280  1.07195  1.07202    1460\n",
       "2017-04-19 13:00:00  1.07200  1.07230  1.07045  1.07050    1554"
      ]
     },
     "execution_count": 3,
     "metadata": {},
     "output_type": "execute_result"
    }
   ],
   "source": [
    "EURUSD.head()"
   ]
  },
  {
   "cell_type": "code",
   "execution_count": 4,
   "metadata": {},
   "outputs": [
    {
     "data": {
      "text/html": [
       "<div>\n",
       "<style scoped>\n",
       "    .dataframe tbody tr th:only-of-type {\n",
       "        vertical-align: middle;\n",
       "    }\n",
       "\n",
       "    .dataframe tbody tr th {\n",
       "        vertical-align: top;\n",
       "    }\n",
       "\n",
       "    .dataframe thead th {\n",
       "        text-align: right;\n",
       "    }\n",
       "</style>\n",
       "<table border=\"1\" class=\"dataframe\">\n",
       "  <thead>\n",
       "    <tr style=\"text-align: right;\">\n",
       "      <th></th>\n",
       "      <th>Open</th>\n",
       "      <th>High</th>\n",
       "      <th>Low</th>\n",
       "      <th>Close</th>\n",
       "      <th>Volume</th>\n",
       "    </tr>\n",
       "  </thead>\n",
       "  <tbody>\n",
       "    <tr>\n",
       "      <th>2018-02-07 11:00:00</th>\n",
       "      <td>1.23390</td>\n",
       "      <td>1.23548</td>\n",
       "      <td>1.23386</td>\n",
       "      <td>1.23501</td>\n",
       "      <td>2203</td>\n",
       "    </tr>\n",
       "    <tr>\n",
       "      <th>2018-02-07 12:00:00</th>\n",
       "      <td>1.23501</td>\n",
       "      <td>1.23508</td>\n",
       "      <td>1.23342</td>\n",
       "      <td>1.23422</td>\n",
       "      <td>2325</td>\n",
       "    </tr>\n",
       "    <tr>\n",
       "      <th>2018-02-07 13:00:00</th>\n",
       "      <td>1.23422</td>\n",
       "      <td>1.23459</td>\n",
       "      <td>1.23338</td>\n",
       "      <td>1.23372</td>\n",
       "      <td>2824</td>\n",
       "    </tr>\n",
       "    <tr>\n",
       "      <th>2018-02-07 14:00:00</th>\n",
       "      <td>1.23374</td>\n",
       "      <td>1.23452</td>\n",
       "      <td>1.23238</td>\n",
       "      <td>1.23426</td>\n",
       "      <td>4065</td>\n",
       "    </tr>\n",
       "    <tr>\n",
       "      <th>2018-02-07 15:00:00</th>\n",
       "      <td>1.23427</td>\n",
       "      <td>1.23444</td>\n",
       "      <td>1.22904</td>\n",
       "      <td>1.22904</td>\n",
       "      <td>6143</td>\n",
       "    </tr>\n",
       "  </tbody>\n",
       "</table>\n",
       "</div>"
      ],
      "text/plain": [
       "                        Open     High      Low    Close  Volume\n",
       "2018-02-07 11:00:00  1.23390  1.23548  1.23386  1.23501    2203\n",
       "2018-02-07 12:00:00  1.23501  1.23508  1.23342  1.23422    2325\n",
       "2018-02-07 13:00:00  1.23422  1.23459  1.23338  1.23372    2824\n",
       "2018-02-07 14:00:00  1.23374  1.23452  1.23238  1.23426    4065\n",
       "2018-02-07 15:00:00  1.23427  1.23444  1.22904  1.22904    6143"
      ]
     },
     "execution_count": 4,
     "metadata": {},
     "output_type": "execute_result"
    }
   ],
   "source": [
    "EURUSD.tail()"
   ]
  },
  {
   "cell_type": "code",
   "execution_count": null,
   "metadata": {},
   "outputs": [],
   "source": []
  },
  {
   "cell_type": "code",
   "execution_count": 7,
   "metadata": {},
   "outputs": [
    {
     "ename": "TypeError",
     "evalue": "`strategy` must be a Strategy sub-type",
     "output_type": "error",
     "traceback": [
      "\u001b[1;31m---------------------------------------------------------------------------\u001b[0m",
      "\u001b[1;31mTypeError\u001b[0m                                 Traceback (most recent call last)",
      "\u001b[1;32mc:\\Users\\75131\\UMF_MH_2024\\case2.ipynb Cell 4\u001b[0m line \u001b[0;36m1\n\u001b[1;32m----> <a href='vscode-notebook-cell:/c%3A/Users/75131/UMF_MH_2024/case2.ipynb#W3sZmlsZQ%3D%3D?line=0'>1</a>\u001b[0m bt \u001b[39m=\u001b[39m Backtest(EURUSD, SMA, cash \u001b[39m=\u001b[39;49m \u001b[39m10000\u001b[39;49m, exclusive_orders\u001b[39m=\u001b[39;49m\u001b[39mTrue\u001b[39;49;00m)\n\u001b[0;32m      <a href='vscode-notebook-cell:/c%3A/Users/75131/UMF_MH_2024/case2.ipynb#W3sZmlsZQ%3D%3D?line=1'>2</a>\u001b[0m output\u001b[39m=\u001b[39mbt\u001b[39m.\u001b[39mrun()\n\u001b[0;32m      <a href='vscode-notebook-cell:/c%3A/Users/75131/UMF_MH_2024/case2.ipynb#W3sZmlsZQ%3D%3D?line=2'>3</a>\u001b[0m bt\u001b[39m.\u001b[39mplot\n",
      "File \u001b[1;32m\\\\vdi-fs01.ue.poznan\\Profiles$\\75131\\AppData\\Roaming\\Python\\Python311\\site-packages\\backtesting\\backtesting.py:1041\u001b[0m, in \u001b[0;36mBacktest.__init__\u001b[1;34m(self, data, strategy, cash, commission, margin, trade_on_close, hedging, exclusive_orders)\u001b[0m\n\u001b[0;32m    994\u001b[0m \u001b[39m\u001b[39m\u001b[39m\"\"\"\u001b[39;00m\n\u001b[0;32m    995\u001b[0m \u001b[39mInitialize a backtest. Requires data and a strategy to test.\u001b[39;00m\n\u001b[0;32m    996\u001b[0m \n\u001b[1;32m   (...)\u001b[0m\n\u001b[0;32m   1037\u001b[0m \u001b[39m[FIFO]: https://www.investopedia.com/terms/n/nfa-compliance-rule-2-43b.asp\u001b[39;00m\n\u001b[0;32m   1038\u001b[0m \u001b[39m\"\"\"\u001b[39;00m\n\u001b[0;32m   1040\u001b[0m \u001b[39mif\u001b[39;00m \u001b[39mnot\u001b[39;00m (\u001b[39misinstance\u001b[39m(strategy, \u001b[39mtype\u001b[39m) \u001b[39mand\u001b[39;00m \u001b[39missubclass\u001b[39m(strategy, Strategy)):\n\u001b[1;32m-> 1041\u001b[0m     \u001b[39mraise\u001b[39;00m \u001b[39mTypeError\u001b[39;00m(\u001b[39m'\u001b[39m\u001b[39m`strategy` must be a Strategy sub-type\u001b[39m\u001b[39m'\u001b[39m)\n\u001b[0;32m   1042\u001b[0m \u001b[39mif\u001b[39;00m \u001b[39mnot\u001b[39;00m \u001b[39misinstance\u001b[39m(data, pd\u001b[39m.\u001b[39mDataFrame):\n\u001b[0;32m   1043\u001b[0m     \u001b[39mraise\u001b[39;00m \u001b[39mTypeError\u001b[39;00m(\u001b[39m\"\u001b[39m\u001b[39m`data` must be a pandas.DataFrame with columns\u001b[39m\u001b[39m\"\u001b[39m)\n",
      "\u001b[1;31mTypeError\u001b[0m: `strategy` must be a Strategy sub-type"
     ]
    }
   ],
   "source": [
    "bt = Backtest(EURUSD, SMA, cash = 10000, exclusive_orders=True)\n",
    "output=bt.run()\n",
    "bt.plot\n",
    "print(output)"
   ]
  }
 ],
 "metadata": {
  "kernelspec": {
   "display_name": "Python 3",
   "language": "python",
   "name": "python3"
  },
  "language_info": {
   "codemirror_mode": {
    "name": "ipython",
    "version": 3
   },
   "file_extension": ".py",
   "mimetype": "text/x-python",
   "name": "python",
   "nbconvert_exporter": "python",
   "pygments_lexer": "ipython3",
   "version": "3.11.2"
  },
  "orig_nbformat": 4
 },
 "nbformat": 4,
 "nbformat_minor": 2
}
