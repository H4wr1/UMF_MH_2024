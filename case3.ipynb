{
 "cells": [
  {
   "cell_type": "code",
   "execution_count": 4,
   "metadata": {},
   "outputs": [
    {
     "name": "stderr",
     "output_type": "stream",
     "text": [
      "'pip' is not recognized as an internal or external command,\n",
      "operable program or batch file.\n"
     ]
    }
   ],
   "source": [
    "#!pip install yfinance\n",
    "#!pip install backtesting"
   ]
  },
  {
   "cell_type": "code",
   "execution_count": 26,
   "metadata": {},
   "outputs": [],
   "source": [
    "%matplotlib inline"
   ]
  },
  {
   "cell_type": "code",
   "execution_count": 21,
   "metadata": {},
   "outputs": [],
   "source": [
    "from backtesting import Backtest\n",
    "from backtesting.test import EURUSD, GOOG\n",
    "from backtesting import Strategy\n",
    "from backtesting.lib import crossover\n",
    "from backtesting.test import SMA\n",
    "import yfinance as yf\n",
    "import pandas as pd\n",
    "import numpy as np\n",
    "from backtesting import Backtest, Strategy\n",
    "from backtesting.lib import crossover\n",
    "import matplotlib.pyplot as plt"
   ]
  },
  {
   "cell_type": "code",
   "execution_count": 22,
   "metadata": {},
   "outputs": [
    {
     "name": "stderr",
     "output_type": "stream",
     "text": [
      "[*********************100%%**********************]  1 of 1 completed\n"
     ]
    }
   ],
   "source": [
    "data = yf.download('MSFT', start='2024-01-01', end='2024-05-06')"
   ]
  },
  {
   "cell_type": "code",
   "execution_count": 23,
   "metadata": {},
   "outputs": [],
   "source": [
    "class SMACrossoverWithSLTP(Strategy):\n",
    "    short_sma_period = 10\n",
    "    long_sma_period = 25\n",
    "\n",
    "    def init(self):\n",
    "        self.short_sma = self.I(SMA, self.data.Close, self.short_sma_period)\n",
    "        self.long_sma = self.I(SMA, self.data.Close, self.long_sma_period)\n",
    "\n",
    "    def next(self):\n",
    "        current_price = self.data.Close[-1]\n",
    "        long_stop_loss = current_price * 0.99\n",
    "        long_take_profit = current_price * 1.05\n",
    "        short_stop_loss = current_price * 1.01\n",
    "        short_take_profit = current_price * 0.95\n",
    "\n",
    "        if crossover(self.short_sma, self.long_sma):\n",
    "            if self.position.is_short:\n",
    "                self.position.close()\n",
    "            self.buy(size=0.5, sl=long_stop_loss, tp=long_take_profit)\n",
    "        elif crossover(self.long_sma, self.short_sma):\n",
    "            if self.position.is_long:\n",
    "                self.position.close()\n",
    "            self.sell(size=0.5, sl=short_stop_loss, tp=short_take_profit)"
   ]
  },
  {
   "cell_type": "code",
   "execution_count": 28,
   "metadata": {},
   "outputs": [
    {
     "name": "stderr",
     "output_type": "stream",
     "text": [
      "BokehDeprecationWarning: Passing lists of formats for DatetimeTickFormatter scales was deprecated in Bokeh 3.0. Configure a single string format for each scale\n",
      "c:\\Users\\dellek\\AppData\\Local\\Programs\\Python\\Python312\\Lib\\site-packages\\backtesting\\_plotting.py:250: UserWarning: DatetimeFormatter scales now only accept a single format. Using the first provided: '%d %b'\n",
      "  formatter=DatetimeTickFormatter(days=['%d %b', '%a %d'],\n",
      "BokehDeprecationWarning: Passing lists of formats for DatetimeTickFormatter scales was deprecated in Bokeh 3.0. Configure a single string format for each scale\n",
      "c:\\Users\\dellek\\AppData\\Local\\Programs\\Python\\Python312\\Lib\\site-packages\\backtesting\\_plotting.py:250: UserWarning: DatetimeFormatter scales now only accept a single format. Using the first provided: '%m/%Y'\n",
      "  formatter=DatetimeTickFormatter(days=['%d %b', '%a %d'],\n",
      "c:\\Users\\dellek\\AppData\\Local\\Programs\\Python\\Python312\\Lib\\site-packages\\backtesting\\_plotting.py:456: FutureWarning: 'M' is deprecated and will be removed in a future version, please use 'ME' instead.\n",
      "  .resample(resample_rule, label='left')\n",
      "c:\\Users\\dellek\\AppData\\Local\\Programs\\Python\\Python312\\Lib\\site-packages\\backtesting\\_plotting.py:659: UserWarning: found multiple competing values for 'toolbar.active_drag' property; using the latest value\n",
      "  fig = gridplot(\n",
      "c:\\Users\\dellek\\AppData\\Local\\Programs\\Python\\Python312\\Lib\\site-packages\\backtesting\\_plotting.py:659: UserWarning: found multiple competing values for 'toolbar.active_scroll' property; using the latest value\n",
      "  fig = gridplot(\n"
     ]
    },
    {
     "name": "stdout",
     "output_type": "stream",
     "text": [
      "Start                     2024-01-02 00:00:00\n",
      "End                       2024-05-03 00:00:00\n",
      "Duration                    122 days 00:00:00\n",
      "Exposure Time [%]                    33.72093\n",
      "Equity Final [$]                  9750.012919\n",
      "Equity Peak [$]                       10000.0\n",
      "Return [%]                          -2.499871\n",
      "Buy & Hold Return [%]                9.650284\n",
      "Return (Ann.) [%]                   -7.149841\n",
      "Volatility (Ann.) [%]                 3.94455\n",
      "Sharpe Ratio                              0.0\n",
      "Sortino Ratio                             0.0\n",
      "Calmar Ratio                              0.0\n",
      "Max. Drawdown [%]                   -2.642838\n",
      "Avg. Drawdown [%]                   -2.642838\n",
      "Max. Drawdown Duration       66 days 00:00:00\n",
      "Avg. Drawdown Duration       66 days 00:00:00\n",
      "# Trades                                    5\n",
      "Win Rate [%]                              0.0\n",
      "Best Trade [%]                      -0.554803\n",
      "Worst Trade [%]                     -1.819001\n",
      "Avg. Trade [%]                      -1.057036\n",
      "Max. Trade Duration          34 days 00:00:00\n",
      "Avg. Trade Duration           8 days 00:00:00\n",
      "Profit Factor                             0.0\n",
      "Expectancy [%]                      -1.056161\n",
      "SQN                                  -4.83238\n",
      "_strategy                 SMACrossoverWith...\n",
      "_equity_curve                             ...\n",
      "_trades                      Size  EntryBa...\n",
      "dtype: object\n"
     ]
    }
   ],
   "source": [
    "backtest_sma_sl_tp = Backtest(data, SMACrossoverWithSLTP, cash=10000, commission=0.002, exclusive_orders=True)\n",
    "results_sma_sl_tp = backtest_sma_sl_tp.run()\n",
    "backtest_sma_sl_tp.plot()\n",
    "print(results_sma_sl_tp)\n"
   ]
  },
  {
   "cell_type": "code",
   "execution_count": 14,
   "metadata": {},
   "outputs": [
    {
     "name": "stderr",
     "output_type": "stream",
     "text": [
      "c:\\Users\\dellek\\AppData\\Local\\Programs\\Python\\Python312\\Lib\\site-packages\\backtesting\\_stats.py:122: RuntimeWarning: divide by zero encountered in scalar divide\n",
      "  s.loc['Sortino Ratio'] = np.clip((annualized_return - risk_free_rate) / (np.sqrt(np.mean(day_returns.clip(-np.inf, 0)**2)) * np.sqrt(annual_trading_days)), 0, np.inf)  # noqa: E501\n",
      "c:\\Users\\dellek\\AppData\\Local\\Programs\\Python\\Python312\\Lib\\site-packages\\backtesting\\_stats.py:122: RuntimeWarning: divide by zero encountered in scalar divide\n",
      "  s.loc['Sortino Ratio'] = np.clip((annualized_return - risk_free_rate) / (np.sqrt(np.mean(day_returns.clip(-np.inf, 0)**2)) * np.sqrt(annual_trading_days)), 0, np.inf)  # noqa: E501\n"
     ]
    },
    {
     "name": "stdout",
     "output_type": "stream",
     "text": [
      "Start                     2024-01-02 00:00:00\n",
      "End                       2024-05-03 00:00:00\n",
      "Duration                    122 days 00:00:00\n",
      "Exposure Time [%]                    1.162791\n",
      "Equity Final [$]                 10055.619293\n",
      "Equity Peak [$]                  10055.619293\n",
      "Return [%]                           0.556193\n",
      "Buy & Hold Return [%]                9.650284\n",
      "Return (Ann.) [%]                    1.638538\n",
      "Volatility (Ann.) [%]                0.973322\n",
      "Sharpe Ratio                         1.683449\n",
      "Sortino Ratio                             inf\n",
      "Calmar Ratio                              NaN\n",
      "Max. Drawdown [%]                        -0.0\n",
      "Avg. Drawdown [%]                         NaN\n",
      "Max. Drawdown Duration                    NaN\n",
      "Avg. Drawdown Duration                    NaN\n",
      "# Trades                                    1\n",
      "Win Rate [%]                            100.0\n",
      "Best Trade [%]                       1.178649\n",
      "Worst Trade [%]                      1.178649\n",
      "Avg. Trade [%]                       1.178649\n",
      "Max. Trade Duration           0 days 00:00:00\n",
      "Avg. Trade Duration           0 days 00:00:00\n",
      "Profit Factor                             NaN\n",
      "Expectancy [%]                       1.178649\n",
      "SQN                                       NaN\n",
      "_strategy                 SMACrossoverWith...\n",
      "_equity_curve                             ...\n",
      "_trades                      Size  EntryBa...\n",
      "dtype: object\n",
      "SMACrossoverWithSLTP(short_sma_period=15,long_sma_period=45)\n"
     ]
    },
    {
     "name": "stderr",
     "output_type": "stream",
     "text": [
      "c:\\Users\\dellek\\AppData\\Local\\Programs\\Python\\Python312\\Lib\\site-packages\\backtesting\\_stats.py:122: RuntimeWarning: divide by zero encountered in scalar divide\n",
      "  s.loc['Sortino Ratio'] = np.clip((annualized_return - risk_free_rate) / (np.sqrt(np.mean(day_returns.clip(-np.inf, 0)**2)) * np.sqrt(annual_trading_days)), 0, np.inf)  # noqa: E501\n"
     ]
    }
   ],
   "source": [
    "optimized_sma_sl_tp = backtest_sma_sl_tp.optimize(short_sma_period=range(5, 30, 5), long_sma_period=range(15, 50, 5), maximize='Sharpe Ratio')\n",
    "print(optimized_sma_sl_tp)\n",
    "print(optimized_sma_sl_tp._strategy)"
   ]
  },
  {
   "cell_type": "code",
   "execution_count": 15,
   "metadata": {},
   "outputs": [],
   "source": [
    "def compute_rsi(series, period=14):\n",
    "    delta = series.diff()\n",
    "    gain = (delta.where(delta > 0, 0)).rolling(window=period).mean()\n",
    "    loss = (-delta.where(delta < 0, 0)).rolling(window=period).mean()\n",
    "    rs = gain / loss\n",
    "    return 100 - (100 / (1 + rs))"
   ]
  },
  {
   "cell_type": "code",
   "execution_count": 16,
   "metadata": {},
   "outputs": [],
   "source": [
    "data['RSI'] = compute_rsi(data['Close'])"
   ]
  },
  {
   "cell_type": "code",
   "execution_count": 17,
   "metadata": {},
   "outputs": [],
   "source": [
    "class RSIStrategy(Strategy):\n",
    "    rsi_period = 14\n",
    "\n",
    "    def init(self):\n",
    "        self.rsi = self.data.RSI\n",
    "\n",
    "    def next(self):\n",
    "        if self.rsi[-1] < 30:\n",
    "            self.buy()\n",
    "        elif self.rsi[-1] > 70:\n",
    "            self.position.close()"
   ]
  },
  {
   "cell_type": "code",
   "execution_count": 18,
   "metadata": {},
   "outputs": [
    {
     "name": "stdout",
     "output_type": "stream",
     "text": [
      "Start                     2024-01-02 00:00:00\n",
      "End                       2024-05-03 00:00:00\n",
      "Duration                    122 days 00:00:00\n",
      "Exposure Time [%]                         0.0\n",
      "Equity Final [$]                      10000.0\n",
      "Equity Peak [$]                       10000.0\n",
      "Return [%]                                0.0\n",
      "Buy & Hold Return [%]                9.650284\n",
      "Return (Ann.) [%]                         0.0\n",
      "Volatility (Ann.) [%]                     0.0\n",
      "Sharpe Ratio                              NaN\n",
      "Sortino Ratio                             NaN\n",
      "Calmar Ratio                              NaN\n",
      "Max. Drawdown [%]                        -0.0\n",
      "Avg. Drawdown [%]                         NaN\n",
      "Max. Drawdown Duration                    NaN\n",
      "Avg. Drawdown Duration                    NaN\n",
      "# Trades                                    0\n",
      "Win Rate [%]                              NaN\n",
      "Best Trade [%]                            NaN\n",
      "Worst Trade [%]                           NaN\n",
      "Avg. Trade [%]                            NaN\n",
      "Max. Trade Duration                       NaN\n",
      "Avg. Trade Duration                       NaN\n",
      "Profit Factor                             NaN\n",
      "Expectancy [%]                            NaN\n",
      "SQN                                       NaN\n",
      "_strategy                         RSIStrategy\n",
      "_equity_curve                          Equ...\n",
      "_trades                   Empty DataFrame\n",
      "...\n",
      "dtype: object\n"
     ]
    },
    {
     "name": "stderr",
     "output_type": "stream",
     "text": [
      "BokehDeprecationWarning: Passing lists of formats for DatetimeTickFormatter scales was deprecated in Bokeh 3.0. Configure a single string format for each scale\n",
      "c:\\Users\\dellek\\AppData\\Local\\Programs\\Python\\Python312\\Lib\\site-packages\\backtesting\\_plotting.py:250: UserWarning: DatetimeFormatter scales now only accept a single format. Using the first provided: '%d %b'\n",
      "  formatter=DatetimeTickFormatter(days=['%d %b', '%a %d'],\n",
      "BokehDeprecationWarning: Passing lists of formats for DatetimeTickFormatter scales was deprecated in Bokeh 3.0. Configure a single string format for each scale\n",
      "c:\\Users\\dellek\\AppData\\Local\\Programs\\Python\\Python312\\Lib\\site-packages\\backtesting\\_plotting.py:250: UserWarning: DatetimeFormatter scales now only accept a single format. Using the first provided: '%m/%Y'\n",
      "  formatter=DatetimeTickFormatter(days=['%d %b', '%a %d'],\n",
      "c:\\Users\\dellek\\AppData\\Local\\Programs\\Python\\Python312\\Lib\\site-packages\\backtesting\\_plotting.py:456: FutureWarning: 'M' is deprecated and will be removed in a future version, please use 'ME' instead.\n",
      "  .resample(resample_rule, label='left')\n",
      "c:\\Users\\dellek\\AppData\\Local\\Programs\\Python\\Python312\\Lib\\site-packages\\backtesting\\_plotting.py:659: UserWarning: found multiple competing values for 'toolbar.active_drag' property; using the latest value\n",
      "  fig = gridplot(\n",
      "c:\\Users\\dellek\\AppData\\Local\\Programs\\Python\\Python312\\Lib\\site-packages\\backtesting\\_plotting.py:659: UserWarning: found multiple competing values for 'toolbar.active_scroll' property; using the latest value\n",
      "  fig = gridplot(\n"
     ]
    }
   ],
   "source": [
    "backtest_rsi = Backtest(data, RSIStrategy, cash=10000, commission=0.002, exclusive_orders=True)\n",
    "results_rsi = backtest_rsi.run()\n",
    "backtest_rsi.plot()\n",
    "print(results_rsi)"
   ]
  },
  {
   "cell_type": "code",
   "execution_count": 19,
   "metadata": {},
   "outputs": [
    {
     "name": "stdout",
     "output_type": "stream",
     "text": [
      "Start                     2024-01-02 00:00:00\n",
      "End                       2024-05-03 00:00:00\n",
      "Duration                    122 days 00:00:00\n",
      "Exposure Time [%]                         0.0\n",
      "Equity Final [$]                      10000.0\n",
      "Equity Peak [$]                       10000.0\n",
      "Return [%]                                0.0\n",
      "Buy & Hold Return [%]                9.650284\n",
      "Return (Ann.) [%]                         0.0\n",
      "Volatility (Ann.) [%]                     0.0\n",
      "Sharpe Ratio                              NaN\n",
      "Sortino Ratio                             NaN\n",
      "Calmar Ratio                              NaN\n",
      "Max. Drawdown [%]                        -0.0\n",
      "Avg. Drawdown [%]                         NaN\n",
      "Max. Drawdown Duration                    NaN\n",
      "Avg. Drawdown Duration                    NaN\n",
      "# Trades                                    0\n",
      "Win Rate [%]                              NaN\n",
      "Best Trade [%]                            NaN\n",
      "Worst Trade [%]                           NaN\n",
      "Avg. Trade [%]                            NaN\n",
      "Max. Trade Duration                       NaN\n",
      "Avg. Trade Duration                       NaN\n",
      "Profit Factor                             NaN\n",
      "Expectancy [%]                            NaN\n",
      "SQN                                       NaN\n",
      "_strategy                 RSIStrategy(rsi_...\n",
      "_equity_curve                          Equ...\n",
      "_trades                   Empty DataFrame\n",
      "...\n",
      "dtype: object\n",
      "RSIStrategy(rsi_period=10)\n"
     ]
    },
    {
     "name": "stderr",
     "output_type": "stream",
     "text": [
      "c:\\Users\\dellek\\AppData\\Local\\Programs\\Python\\Python312\\Lib\\site-packages\\backtesting\\backtesting.py:1384: FutureWarning: The behavior of Series.idxmax with all-NA values, or any-NA and skipna=False, is deprecated. In a future version this will raise ValueError\n",
      "  best_params = heatmap.idxmax()\n"
     ]
    }
   ],
   "source": [
    "optimized_rsi = backtest_rsi.optimize(rsi_period=range(10, 35, 5), maximize='Sharpe Ratio')\n",
    "print(optimized_rsi)\n",
    "print(optimized_rsi._strategy)"
   ]
  }
 ],
 "metadata": {
  "kernelspec": {
   "display_name": "Python 3",
   "language": "python",
   "name": "python3"
  },
  "language_info": {
   "codemirror_mode": {
    "name": "ipython",
    "version": 3
   },
   "file_extension": ".py",
   "mimetype": "text/x-python",
   "name": "python",
   "nbconvert_exporter": "python",
   "pygments_lexer": "ipython3",
   "version": "3.12.4"
  }
 },
 "nbformat": 4,
 "nbformat_minor": 2
}
